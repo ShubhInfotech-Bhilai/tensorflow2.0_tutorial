{
 "cells": [
  {
   "cell_type": "markdown",
   "metadata": {},
   "source": [
    "## 使用keras训练模型"
   ]
  },
  {
   "cell_type": "code",
   "execution_count": 4,
   "metadata": {},
   "outputs": [],
   "source": [
    "from __future__ import absolute_import, division, print_function\n",
    "import tensorflow as tf\n",
    "tf.keras.backend.clear_session()\n",
    "import tensorflow.keras as keras\n",
    "import tensorflow.keras.layers as layers"
   ]
  },
  {
   "cell_type": "markdown",
   "metadata": {},
   "source": [
    "## 一般的模型构造、训练、测试流程"
   ]
  },
  {
   "cell_type": "code",
   "execution_count": 5,
   "metadata": {},
   "outputs": [
    {
     "name": "stdout",
     "output_type": "stream",
     "text": [
      "Train on 50000 samples, validate on 10000 samples\n",
      "Epoch 1/10\n",
      "50000/50000 [==============================] - 2s 44us/sample - loss: 0.3458 - sparse_categorical_accuracy: 0.9016 - val_loss: 0.1910 - val_sparse_categorical_accuracy: 0.9451\n",
      "Epoch 2/10\n",
      "50000/50000 [==============================] - 2s 36us/sample - loss: 0.1617 - sparse_categorical_accuracy: 0.9517 - val_loss: 0.1570 - val_sparse_categorical_accuracy: 0.9529\n",
      "Epoch 3/10\n",
      "50000/50000 [==============================] - 2s 36us/sample - loss: 0.1173 - sparse_categorical_accuracy: 0.9651 - val_loss: 0.1110 - val_sparse_categorical_accuracy: 0.9687\n",
      "Epoch 4/10\n",
      "50000/50000 [==============================] - 2s 37us/sample - loss: 0.0941 - sparse_categorical_accuracy: 0.9713 - val_loss: 0.1169 - val_sparse_categorical_accuracy: 0.9656\n",
      "Epoch 5/10\n",
      "50000/50000 [==============================] - 2s 36us/sample - loss: 0.0787 - sparse_categorical_accuracy: 0.9759 - val_loss: 0.0994 - val_sparse_categorical_accuracy: 0.9718\n",
      "Epoch 6/10\n",
      "50000/50000 [==============================] - 2s 36us/sample - loss: 0.0682 - sparse_categorical_accuracy: 0.9801 - val_loss: 0.0965 - val_sparse_categorical_accuracy: 0.9725\n",
      "Epoch 7/10\n",
      "50000/50000 [==============================] - 2s 38us/sample - loss: 0.0595 - sparse_categorical_accuracy: 0.9821 - val_loss: 0.1152 - val_sparse_categorical_accuracy: 0.9687\n",
      "Epoch 8/10\n",
      "50000/50000 [==============================] - 2s 36us/sample - loss: 0.0521 - sparse_categorical_accuracy: 0.9841 - val_loss: 0.0973 - val_sparse_categorical_accuracy: 0.9740\n",
      "Epoch 9/10\n",
      "50000/50000 [==============================] - 2s 36us/sample - loss: 0.0460 - sparse_categorical_accuracy: 0.9859 - val_loss: 0.0920 - val_sparse_categorical_accuracy: 0.9752\n",
      "Epoch 10/10\n",
      "50000/50000 [==============================] - 2s 36us/sample - loss: 0.0399 - sparse_categorical_accuracy: 0.9880 - val_loss: 0.1085 - val_sparse_categorical_accuracy: 0.9724\n",
      "history:\n",
      "{'loss': [0.34580219023227693, 0.16170194757461548, 0.1173230823791027, 0.09410019682228565, 0.07868611600607633, 0.06817947624117136, 0.05946201964214444, 0.05213931805059314, 0.045961222454085945, 0.03989861021488905], 'sparse_categorical_accuracy': [0.90158, 0.9517, 0.96506, 0.97134, 0.97594, 0.98014, 0.98206, 0.98412, 0.98594, 0.98802], 'val_loss': [0.19104396843910218, 0.15704527716636657, 0.11097042064666748, 0.11692419271469116, 0.09936368381679057, 0.09646059103906154, 0.11516126756295562, 0.09733122422844172, 0.0920238340653479, 0.10848174096047879], 'val_sparse_categorical_accuracy': [0.9451, 0.9529, 0.9687, 0.9656, 0.9718, 0.9725, 0.9687, 0.974, 0.9752, 0.9724]}\n",
      "10000/10000 [==============================] - 0s 10us/sample - loss: 0.1078 - sparse_categorical_accuracy: 0.9715\n",
      "evaluate:\n",
      "[0.10776674109268934, 0.9715]\n",
      "predict:\n",
      "[[1.8560861e-13 1.4768608e-12 1.4614175e-09 7.1457521e-08 9.3414350e-13\n",
      "  5.0698703e-12 1.3087155e-16 9.9999988e-01 1.1445098e-09 8.0323268e-09]\n",
      " [5.3483164e-15 2.9911028e-04 9.9969983e-01 1.7092221e-08 4.8062022e-19\n",
      "  6.3139618e-07 1.2257918e-09 6.3175898e-14 4.3860257e-07 2.3075291e-18]]\n"
     ]
    }
   ],
   "source": [
    "#模型构造\n",
    "inputs = keras.Input(shape=(784,),name='mnist_input')\n",
    "h1 = layers.Dense(64, activation='relu')(inputs)\n",
    "h1 = layers.Dense(64, activation='relu')(h1)\n",
    "outputs = layers.Dense(10, activation='softmax')(h1)\n",
    "model = keras.Model(inputs, outputs)\n",
    "\n",
    "model.compile(optimizer=keras.optimizers.RMSprop(),\n",
    "              loss=keras.losses.SparseCategoricalCrossentropy(),\n",
    "              metrics=[keras.metrics.SparseCategoricalAccuracy()])\n",
    "\n",
    "#载入数据\n",
    "(x_train,y_train),(x_test,y_test) = keras.datasets.mnist.load_data()\n",
    "x_train = x_train.reshape(60000, 784).astype('float32') / 255.0\n",
    "x_test = x_test.reshape(10000, 784).astype('float32') / 255.0\n",
    "\n",
    "x_val = x_train[-10000:]\n",
    "y_val = y_train[-10000:]\n",
    "\n",
    "x_train = x_train[:-10000]\n",
    "y_train = y_train[:-10000]\n",
    "\n",
    "#训练模型\n",
    "history = model.fit(x_train, y_train, batch_size=64, epochs=10,\n",
    "                   validation_data=(x_val, y_val))\n",
    "\n",
    "print('history:')\n",
    "print(history.history)\n",
    "\n",
    "result = model.evaluate(x_test, y_test, batch_size=128)\n",
    "print('evaluate:')\n",
    "print(result)\n",
    "\n",
    "pred = model.predict(x_test[:2])\n",
    "print('predict:')\n",
    "print(pred)"
   ]
  },
  {
   "cell_type": "markdown",
   "metadata": {},
   "source": [
    "## 自定义损失函数和指标\n",
    "自定义指标只需要继承Metric类，然后重写函数__init__(self)，初始化。\n",
    "\n",
    "update_state(self,y_ture,y_pred,sample_weight=None),使用目标y_ture和模型y_pred来更新状态变量。\n",
    "\n",
    "result(self),使用状态变量来计算最终结果。\n",
    "\n",
    "reset_states(self),重新初始化度量的状态。"
   ]
  },
  {
   "cell_type": "code",
   "execution_count": 6,
   "metadata": {},
   "outputs": [
    {
     "name": "stdout",
     "output_type": "stream",
     "text": [
      "Epoch 1/3\n",
      "50000/50000 [==============================] - 2s 33us/sample - loss: 0.0363 - binary_true_positives: 11775.0000\n",
      "Epoch 2/3\n",
      "50000/50000 [==============================] - 2s 32us/sample - loss: 0.0331 - binary_true_positives: 12881.0000\n",
      "Epoch 3/3\n",
      "50000/50000 [==============================] - 2s 31us/sample - loss: 0.0285 - binary_true_positives: 13265.0000\n"
     ]
    },
    {
     "data": {
      "text/plain": [
       "<tensorflow.python.keras.callbacks.History at 0x7f8259b982e8>"
      ]
     },
     "execution_count": 6,
     "metadata": {},
     "output_type": "execute_result"
    }
   ],
   "source": [
    "class CatgoricalTruePositives(keras.metrics.Metric):\n",
    "    def __init__(self, name='binary_true_positives', **kwargs):\n",
    "        super(CatgoricalTruePositives, self).__init__(name=name, **kwargs)\n",
    "        self.true_positives = self.add_weight(name='tp', initializer='zeros')\n",
    "    \n",
    "    def update_state(self,y_true, y_pred, sample_weight=None):\n",
    "        y_pred = tf.argmax(y_pred)\n",
    "        y_true = tf.equal(tf.cast(y_pred, tf.int32), tf.cast(y_true, tf.int32))\n",
    "        \n",
    "        y_true = tf.cast(y_true, tf.float32)\n",
    "        \n",
    "        if sample_weight is not None:\n",
    "            sample_weight = tf.cast(sample_weight, tf.float32)\n",
    "            y_true = tf.multiply(sample_weight, y_true)\n",
    "            \n",
    "        return self.true_positives.assign_add(tf.reduce_sum(y_true))\n",
    "    \n",
    "    def result(self):\n",
    "        return tf.identity(self.true_positives)\n",
    "    \n",
    "    def reset_states(self):\n",
    "        self.true_positives.assign(0.)\n",
    "        \n",
    "model.compile(optimizer=keras.optimizers.RMSprop(1e-3),\n",
    "              loss=keras.losses.SparseCategoricalCrossentropy(),\n",
    "              metrics=[CatgoricalTruePositives()])\n",
    "\n",
    "model.fit(x_train, y_train,\n",
    "         batch_size=64, epochs=3)\n",
    "        "
   ]
  },
  {
   "cell_type": "code",
   "execution_count": 7,
   "metadata": {},
   "outputs": [
    {
     "name": "stdout",
     "output_type": "stream",
     "text": [
      "50000/50000 [==============================] - 3s 68us/sample - loss: 2.3489 - sparse_categorical_accuracy: 0.1132\n"
     ]
    },
    {
     "data": {
      "text/plain": [
       "<tensorflow.python.keras.callbacks.History at 0x7f821861fcf8>"
      ]
     },
     "execution_count": 7,
     "metadata": {},
     "output_type": "execute_result"
    }
   ],
   "source": [
    "#以定义网络层的方式添加网络loss\n",
    "class ActivityRegularizationLayer(layers.Layer):\n",
    "    def call(self, inputs):\n",
    "        self.add_loss(tf.reduce_sum(inputs) *0.1)\n",
    "        return inputs\n",
    "    \n",
    "inputs = keras.Input(shape=(784,), name='mnist_input')\n",
    "h1 = layers.Dense(64, activation='relu')(inputs)\n",
    "h1 = ActivityRegularizationLayer()(h1)\n",
    "h1 = layers.Dense(64, activation='relu')(h1)\n",
    "outputs = layers.Dense(10, activation='softmax')(h1)\n",
    "model = keras.Model(inputs, outputs)\n",
    "\n",
    "model.compile(optimizer=keras.optimizers.RMSprop(),\n",
    "             loss=keras.losses.SparseCategoricalCrossentropy(),\n",
    "             metrics=[keras.metrics.SparseCategoricalAccuracy()])\n",
    "\n",
    "model.fit(x_train,y_train, batch_size=32, epochs=1)"
   ]
  },
  {
   "cell_type": "code",
   "execution_count": 8,
   "metadata": {},
   "outputs": [
    {
     "name": "stdout",
     "output_type": "stream",
     "text": [
      "50000/50000 [==============================] - 4s 71us/sample - loss: 0.3103 - sparse_categorical_accuracy: 0.9096 - std_of_activation: 1.0379\n"
     ]
    },
    {
     "data": {
      "text/plain": [
       "<tensorflow.python.keras.callbacks.History at 0x7f8218332fd0>"
      ]
     },
     "execution_count": 8,
     "metadata": {},
     "output_type": "execute_result"
    }
   ],
   "source": [
    "#也可以自定义网络层的方式添加要统计的metrics\n",
    "class MetricLoggingLayer(layers.Layer):\n",
    "    def call(self, inputs):\n",
    "        self.add_metric(keras.backend.std(inputs),\n",
    "                        name='std_of_activation',\n",
    "                        aggregation='mean')\n",
    "        return inputs\n",
    "    \n",
    "inputs = keras.Input(shape=(784,), name='mnist_input')\n",
    "h1 = layers.Dense(64, activation='relu')(inputs)\n",
    "h1 = MetricLoggingLayer()(h1)\n",
    "h1 = layers.Dense(64, activation='relu')(h1)\n",
    "outputs = layers.Dense(10, activation='softmax')(h1)\n",
    "model = keras.Model(inputs, outputs)\n",
    "\n",
    "model.compile(optimizer=keras.optimizers.RMSprop(),\n",
    "             loss=keras.losses.SparseCategoricalCrossentropy(),\n",
    "             metrics=[keras.metrics.SparseCategoricalAccuracy()])\n",
    "model.fit(x_train, y_train, batch_size=32, epochs=1)"
   ]
  },
  {
   "cell_type": "markdown",
   "metadata": {},
   "source": [
    "处理使用validation_data传入测试数据，还可以使用validation_split划分验证数据\n",
    "\n",
    "ps:validation_split只能在用numpy数据训练的情况下使用"
   ]
  },
  {
   "cell_type": "code",
   "execution_count": 9,
   "metadata": {},
   "outputs": [
    {
     "name": "stdout",
     "output_type": "stream",
     "text": [
      "Train on 40000 samples, validate on 10000 samples\n",
      "40000/40000 [==============================] - 4s 88us/sample - loss: 0.1459 - sparse_categorical_accuracy: 0.9571 - std_of_activation: 1.0915 - val_loss: 0.1546 - val_sparse_categorical_accuracy: 0.9525 - val_std_of_activation: 1.0968\n"
     ]
    },
    {
     "data": {
      "text/plain": [
       "<tensorflow.python.keras.callbacks.History at 0x7f82563076d8>"
      ]
     },
     "execution_count": 9,
     "metadata": {},
     "output_type": "execute_result"
    }
   ],
   "source": [
    "model.fit(x_train, y_train, batch_size=32, epochs=1, validation_split=0.2)"
   ]
  },
  {
   "cell_type": "markdown",
   "metadata": {},
   "source": [
    "## 使用tf.data构造数据"
   ]
  },
  {
   "cell_type": "code",
   "execution_count": 10,
   "metadata": {},
   "outputs": [
    {
     "name": "stdout",
     "output_type": "stream",
     "text": [
      "Epoch 1/3\n",
      "100/100 [==============================] - 1s 10ms/step - loss: 0.8311 - sparse_categorical_accuracy: 0.7791 - val_loss: 0.4126 - val_sparse_categorical_accuracy: 0.8750\n",
      "Epoch 2/3\n",
      "100/100 [==============================] - 0s 4ms/step - loss: 0.3828 - sparse_categorical_accuracy: 0.8877 - val_loss: 0.3594 - val_sparse_categorical_accuracy: 0.8698\n",
      "Epoch 3/3\n",
      "100/100 [==============================] - 0s 4ms/step - loss: 0.3295 - sparse_categorical_accuracy: 0.9030 - val_loss: 0.2310 - val_sparse_categorical_accuracy: 0.9323\n"
     ]
    },
    {
     "data": {
      "text/plain": [
       "<tensorflow.python.keras.callbacks.History at 0x7f825d462400>"
      ]
     },
     "execution_count": 10,
     "metadata": {},
     "output_type": "execute_result"
    }
   ],
   "source": [
    "def get_compiled_model():\n",
    "    inputs = keras.Input(shape=(784,), name='mnist_input')\n",
    "    h1 = layers.Dense(64, activation='relu')(inputs)\n",
    "    h2 = layers.Dense(64, activation='relu')(h1)\n",
    "    outputs = layers.Dense(10, activation='softmax')(h2)\n",
    "    model = keras.Model(inputs, outputs)\n",
    "    model.compile(optimizer=keras.optimizers.RMSprop(),\n",
    "                 loss=keras.losses.SparseCategoricalCrossentropy(),\n",
    "                 metrics=[keras.metrics.SparseCategoricalAccuracy()])\n",
    "    return model\n",
    "model = get_compiled_model()\n",
    "train_dataset = tf.data.Dataset.from_tensor_slices((x_train, y_train))\n",
    "train_dataset = train_dataset.shuffle(buffer_size=1024).batch(64)\n",
    "\n",
    "val_dataset = tf.data.Dataset.from_tensor_slices((x_val, y_val))\n",
    "val_dataset = val_dataset.batch(64)\n",
    "\n",
    "# model.fit(train_dataset, epochs=3)\n",
    "# steps_per_epoch 每个epoch只训练几步\n",
    "# validation_steps 每次验证，验证几步\n",
    "model.fit(train_dataset, epochs=3, steps_per_epoch=100,\n",
    "         validation_data=val_dataset, validation_steps=3)"
   ]
  },
  {
   "cell_type": "markdown",
   "metadata": {},
   "source": [
    "## 4.样本权重和类权重\n",
    "“样本权重”数组是一个数字数组，用于指定批处理中每个样本在计算总损失时应具有多少权重。 它通常用于不平衡的分类问题（这个想法是为了给予很少见的类更多的权重）。 当使用的权重是1和0时，该数组可以用作损失函数的掩码（完全丢弃某些样本对总损失的贡献）。\n",
    "\n",
    "“类权重”dict是同一概念的更具体的实例：它将类索引映射到应该用于属于该类的样本的样本权重。 例如，如果类“0”比数据中的类“1”的一半，则可以使用class_weight = {0：1.，1：0.5}。"
   ]
  },
  {
   "cell_type": "code",
   "execution_count": 11,
   "metadata": {},
   "outputs": [
    {
     "name": "stdout",
     "output_type": "stream",
     "text": [
      "{0: 1.0, 1: 1.0, 2: 1.0, 3: 1.0, 4: 1.0, 5: 2.0, 6: 1.0, 7: 1.0, 8: 1.0, 9: 1.0}\n",
      "Epoch 1/4\n",
      "50000/50000 [==============================] - 2s 39us/sample - loss: 0.3786 - sparse_categorical_accuracy: 0.9000\n",
      "Epoch 2/4\n",
      "50000/50000 [==============================] - 2s 34us/sample - loss: 0.1749 - sparse_categorical_accuracy: 0.9525\n",
      "Epoch 3/4\n",
      "50000/50000 [==============================] - 2s 35us/sample - loss: 0.1251 - sparse_categorical_accuracy: 0.9649\n",
      "Epoch 4/4\n",
      "50000/50000 [==============================] - 2s 35us/sample - loss: 0.0998 - sparse_categorical_accuracy: 0.9719\n",
      "Epoch 1/4\n",
      "50000/50000 [==============================] - 2s 38us/sample - loss: 0.3666 - sparse_categorical_accuracy: 0.9039\n",
      "Epoch 2/4\n",
      "50000/50000 [==============================] - 2s 34us/sample - loss: 0.1701 - sparse_categorical_accuracy: 0.9531\n",
      "Epoch 3/4\n",
      "50000/50000 [==============================] - 2s 34us/sample - loss: 0.1235 - sparse_categorical_accuracy: 0.9656\n",
      "Epoch 4/4\n",
      "50000/50000 [==============================] - 2s 33us/sample - loss: 0.0984 - sparse_categorical_accuracy: 0.9718\n"
     ]
    },
    {
     "data": {
      "text/plain": [
       "<tensorflow.python.keras.callbacks.History at 0x7f81ac599a58>"
      ]
     },
     "execution_count": 11,
     "metadata": {},
     "output_type": "execute_result"
    }
   ],
   "source": [
    "# 增加第5类的权重\n",
    "import numpy as np\n",
    "# 类权重\n",
    "model = get_compiled_model()\n",
    "class_weight = {i:1.0 for i in range(10)}\n",
    "class_weight[5] = 2.0\n",
    "print(class_weight)\n",
    "model.fit(x_train, y_train,\n",
    "         class_weight=class_weight,\n",
    "         batch_size=64,\n",
    "         epochs=4)\n",
    "# 样本权重\n",
    "model = get_compiled_model()\n",
    "sample_weight = np.ones(shape=(len(y_train),))\n",
    "sample_weight[y_train == 5] = 2.0\n",
    "model.fit(x_train, y_train,\n",
    "         sample_weight=sample_weight,\n",
    "         batch_size=64,\n",
    "         epochs=4)"
   ]
  },
  {
   "cell_type": "code",
   "execution_count": 12,
   "metadata": {},
   "outputs": [
    {
     "name": "stdout",
     "output_type": "stream",
     "text": [
      "Epoch 1/3\n",
      "782/782 [==============================] - 3s 4ms/step - loss: 0.3801 - sparse_categorical_accuracy: 0.8996\n",
      "Epoch 2/3\n",
      "782/782 [==============================] - 3s 3ms/step - loss: 0.1832 - sparse_categorical_accuracy: 0.9496\n",
      "Epoch 3/3\n",
      "782/782 [==============================] - 2s 3ms/step - loss: 0.1319 - sparse_categorical_accuracy: 0.9635\n"
     ]
    },
    {
     "data": {
      "text/plain": [
       "<tensorflow.python.keras.callbacks.History at 0x7f82103d6b00>"
      ]
     },
     "execution_count": 12,
     "metadata": {},
     "output_type": "execute_result"
    }
   ],
   "source": [
    "# tf.data数据\n",
    "model = get_compiled_model()\n",
    "\n",
    "sample_weight = np.ones(shape=(len(y_train),))\n",
    "sample_weight[y_train == 5] = 2.0\n",
    "\n",
    "train_dataset = tf.data.Dataset.from_tensor_slices((x_train, y_train,\n",
    "                                                    sample_weight))\n",
    "train_dataset = train_dataset.shuffle(buffer_size=1024).batch(64)\n",
    "\n",
    "val_dataset = tf.data.Dataset.from_tensor_slices((x_val, y_val))\n",
    "val_dataset = val_dataset.batch(64)\n",
    "\n",
    "model.fit(train_dataset, epochs=3, )"
   ]
  },
  {
   "cell_type": "markdown",
   "metadata": {},
   "source": [
    "## 多输入多输出模型"
   ]
  },
  {
   "cell_type": "code",
   "execution_count": 13,
   "metadata": {},
   "outputs": [
    {
     "data": {
      "image/png": "[encoded data removed]",
      "text/plain": [
       "<IPython.core.display.Image object>"
      ]
     },
     "execution_count": 13,
     "metadata": {},
     "output_type": "execute_result"
    }
   ],
   "source": [
    "image_input = keras.Input(shape=(32, 32, 3), name='img_input')\n",
    "timeseries_input = keras.Input(shape=(None, 10), name='ts_input')\n",
    "\n",
    "x1 = layers.Conv2D(3, 3)(image_input)\n",
    "x1 = layers.GlobalMaxPooling2D()(x1)\n",
    "\n",
    "x2 = layers.Conv1D(3, 3)(timeseries_input)\n",
    "x2 = layers.GlobalMaxPooling1D()(x2)\n",
    "\n",
    "x = layers.concatenate([x1, x2])\n",
    "\n",
    "score_output = layers.Dense(1, name='score_output')(x)\n",
    "class_output = layers.Dense(5, activation='softmax', name='class_output')(x)\n",
    "\n",
    "model = keras.Model(inputs=[image_input, timeseries_input],\n",
    "                    outputs=[score_output, class_output])\n",
    "keras.utils.plot_model(model, 'multi_input_output_model.png'\n",
    "                       , show_shapes=True)"
   ]
  },
  {
   "cell_type": "code",
   "execution_count": 17,
   "metadata": {},
   "outputs": [
    {
     "name": "stderr",
     "output_type": "stream",
     "text": [
      "WARNING: Logging before flag parsing goes to stderr.\n",
      "W0607 15:38:00.300908 140199823247168 training_utils.py:1152] Output score_output missing from loss dictionary. We assume this was done on purpose. The fit and evaluate APIs will not be expecting any data to be passed to score_output.\n"
     ]
    }
   ],
   "source": [
    "# 可以为模型指定不同的loss和metrics\n",
    "model.compile(\n",
    "    optimizer=keras.optimizers.RMSprop(1e-3),\n",
    "    loss=[keras.losses.MeanSquaredError(),\n",
    "          keras.losses.CategoricalCrossentropy()]\n",
    ")\n",
    "\n",
    "# 还可以制定loss的权重\n",
    "model.compile(\n",
    "    optimizer=keras.optimizers.RMSprop(1e-3),\n",
    "    loss={'score_output':keras.losses.MeanSquaredError(),\n",
    "          'class_output':keras.losses.CategoricalCrossentropy()},\n",
    "    metrics={'score_output':[keras.metrics.MeanAbsolutePercentageError(),\n",
    "                             keras.metrics.MeanAbsoluteError()],\n",
    "             'class_output':[keras.metrics.CategoricalAccuracy()]\n",
    "            },\n",
    "    loss_weight={'score_output':2.,\n",
    "                 'class_output':1.}\n",
    ")\n",
    "\n",
    "#可以把不需要传播的loss置0\n",
    "model.compile(\n",
    "    optimizer=keras.optimizers.RMSprop(1e-3),\n",
    "    loss=[None, keras.losses.CategoricalCrossentropy()]\n",
    ")\n",
    "\n",
    "#或者使用字典方式的loss\n",
    "model.compile(\n",
    "    optimizer=keras.optimizers.RMSprop(1e-3),\n",
    "    loss={'class_output':keras.losses.CategoricalCrossentropy()})"
   ]
  },
  {
   "cell_type": "markdown",
   "metadata": {},
   "source": [
    "## 使用回调（callback）\n",
    "keras中的回调实在训练期间（epoch开始时，batch结束时，epoch结束时等）在不同点调用对象，可以实现以下的行为：\n",
    " - 在训练期间的不同时间点进行验证（超出内置的每个时期验证）\n",
    " - 定期检查模型或超过某个精度阈值\n",
    " - 在训练似乎平稳时改变模型的学习率\n",
    " - 在训练似乎平稳时对顶层进行微调\n",
    " - 在训练结束或者超过某个性能阈值时发送带女子邮件或者即时消息通知等等\n",
    " \n",
    "**可使用的内置回调有**\n",
    " - Modelcheckpoint：定期保存模型\n",
    " - EarlyStopping：当训练不再改进验证指标时候停止训练\n",
    " - TensorBoard：定期编写可在TensorBoard中现实的模型日志（更多细节可见“可视化”）\n",
    " - CSVLogger：将就是和指标数据流失传输到CSV文件\n",
    " - 等等"
   ]
  },
  {
   "cell_type": "markdown",
   "metadata": {},
   "source": [
    "### 回调使用"
   ]
  },
  {
   "cell_type": "code",
   "execution_count": 19,
   "metadata": {},
   "outputs": [
    {
     "name": "stdout",
     "output_type": "stream",
     "text": [
      "Train on 40000 samples, validate on 10000 samples\n",
      "Epoch 1/20\n",
      "40000/40000 [==============================] - 2s 43us/sample - loss: 0.3685 - sparse_categorical_accuracy: 0.8965 - val_loss: 0.2361 - val_sparse_categorical_accuracy: 0.9264\n",
      "Epoch 2/20\n",
      "40000/40000 [==============================] - 1s 37us/sample - loss: 0.1719 - sparse_categorical_accuracy: 0.9493 - val_loss: 0.1773 - val_sparse_categorical_accuracy: 0.9457\n",
      "Epoch 3/20\n",
      "40000/40000 [==============================] - 2s 39us/sample - loss: 0.1275 - sparse_categorical_accuracy: 0.9624 - val_loss: 0.1568 - val_sparse_categorical_accuracy: 0.9528\n",
      "Epoch 4/20\n",
      "40000/40000 [==============================] - 2s 39us/sample - loss: 0.1024 - sparse_categorical_accuracy: 0.9697 - val_loss: 0.1502 - val_sparse_categorical_accuracy: 0.9548\n",
      "Epoch 5/20\n",
      "40000/40000 [==============================] - 2s 38us/sample - loss: 0.0836 - sparse_categorical_accuracy: 0.9749 - val_loss: 0.1540 - val_sparse_categorical_accuracy: 0.9563\n",
      "Epoch 00005: early stopping\n"
     ]
    },
    {
     "data": {
      "text/plain": [
       "<tensorflow.python.keras.callbacks.History at 0x7f825d64f588>"
      ]
     },
     "execution_count": 19,
     "metadata": {},
     "output_type": "execute_result"
    }
   ],
   "source": [
    "model = get_compiled_model()\n",
    "\n",
    "callbacks = [\n",
    "    keras.callbacks.EarlyStopping(\n",
    "        monitor='val_loss',\n",
    "        min_delta=1e-2,\n",
    "        patience=2,\n",
    "        verbose=1)\n",
    "]\n",
    "\n",
    "model.fit(x_train, y_train,\n",
    "         epochs=20,\n",
    "         batch_size=64,\n",
    "         callbacks=callbacks,\n",
    "         validation_split=0.2)"
   ]
  },
  {
   "cell_type": "code",
   "execution_count": 20,
   "metadata": {},
   "outputs": [
    {
     "name": "stdout",
     "output_type": "stream",
     "text": [
      "Train on 40000 samples, validate on 10000 samples\n",
      "Epoch 1/3\n",
      "38592/40000 [===========================>..] - ETA: 0s - loss: 0.3653 - sparse_categorical_accuracy: 0.8972\n",
      "Epoch 00001: val_loss improved from inf to 0.21653, saving model to mymodel_1.h5\n",
      "40000/40000 [==============================] - 2s 44us/sample - loss: 0.3609 - sparse_categorical_accuracy: 0.8983 - val_loss: 0.2165 - val_sparse_categorical_accuracy: 0.9357\n",
      "Epoch 2/3\n",
      "39744/40000 [============================>.] - ETA: 0s - loss: 0.1702 - sparse_categorical_accuracy: 0.9497\n",
      "Epoch 00002: val_loss improved from 0.21653 to 0.17381, saving model to mymodel_2.h5\n",
      "40000/40000 [==============================] - 1s 37us/sample - loss: 0.1700 - sparse_categorical_accuracy: 0.9498 - val_loss: 0.1738 - val_sparse_categorical_accuracy: 0.9489\n",
      "Epoch 3/3\n",
      "39552/40000 [============================>.] - ETA: 0s - loss: 0.1245 - sparse_categorical_accuracy: 0.9630\n",
      "Epoch 00003: val_loss improved from 0.17381 to 0.15544, saving model to mymodel_3.h5\n",
      "40000/40000 [==============================] - 2s 39us/sample - loss: 0.1244 - sparse_categorical_accuracy: 0.9631 - val_loss: 0.1554 - val_sparse_categorical_accuracy: 0.9561\n"
     ]
    },
    {
     "data": {
      "text/plain": [
       "<tensorflow.python.keras.callbacks.History at 0x7f7f670f29b0>"
      ]
     },
     "execution_count": 20,
     "metadata": {},
     "output_type": "execute_result"
    }
   ],
   "source": [
    "#checkpoint模型回调\n",
    "model = get_compiled_model()\n",
    "\n",
    "check_callback = keras.callbacks.ModelCheckpoint(\n",
    "    filepath='mymodel_{epoch}.h5',\n",
    "    save_best_only=True,\n",
    "    monitor='val_loss',\n",
    "    verbose=1\n",
    ")\n",
    "\n",
    "model.fit(x_train, y_train,\n",
    "          epochs=3,\n",
    "          batch_size=64,\n",
    "          callbacks=[check_callback],\n",
    "          validation_split=0.2\n",
    "         )"
   ]
  },
  {
   "cell_type": "code",
   "execution_count": 21,
   "metadata": {},
   "outputs": [],
   "source": [
    "#动态调整学习率\n",
    "initial_learning_rate = 0.1\n",
    "lr_schedule = keras.optimizers.schedules.ExponentialDecay(\n",
    "    initial_learning_rate,\n",
    "    decay_steps=10000,\n",
    "    decay_rate=0.96,\n",
    "    staircase=True\n",
    ")\n",
    "\n",
    "optimizer = keras.optimizers.RMSprop(learning_rate=lr_schedule)"
   ]
  },
  {
   "cell_type": "code",
   "execution_count": 23,
   "metadata": {},
   "outputs": [
    {
     "name": "stdout",
     "output_type": "stream",
     "text": [
      "Train on 40000 samples, validate on 10000 samples\n",
      "Epoch 1/5\n",
      "40000/40000 [==============================] - 2s 43us/sample - loss: 0.1010 - sparse_categorical_accuracy: 0.9698 - val_loss: 0.1544 - val_sparse_categorical_accuracy: 0.9551\n",
      "Epoch 2/5\n",
      "40000/40000 [==============================] - 2s 42us/sample - loss: 0.0837 - sparse_categorical_accuracy: 0.9748 - val_loss: 0.1393 - val_sparse_categorical_accuracy: 0.9609\n",
      "Epoch 3/5\n",
      "40000/40000 [==============================] - 2s 43us/sample - loss: 0.0709 - sparse_categorical_accuracy: 0.9790 - val_loss: 0.1464 - val_sparse_categorical_accuracy: 0.9598\n",
      "Epoch 4/5\n",
      "40000/40000 [==============================] - 2s 41us/sample - loss: 0.0607 - sparse_categorical_accuracy: 0.9821 - val_loss: 0.1452 - val_sparse_categorical_accuracy: 0.9613\n",
      "Epoch 5/5\n",
      "40000/40000 [==============================] - 2s 41us/sample - loss: 0.0525 - sparse_categorical_accuracy: 0.9840 - val_loss: 0.1393 - val_sparse_categorical_accuracy: 0.9641\n"
     ]
    },
    {
     "data": {
      "text/plain": [
       "<tensorflow.python.keras.callbacks.History at 0x7f7f6282b0f0>"
      ]
     },
     "execution_count": 23,
     "metadata": {},
     "output_type": "execute_result"
    }
   ],
   "source": [
    "#使用tensorboard\n",
    "tensorboard_cbk = keras.callbacks.TensorBoard(\n",
    "    log_dir='./full_pathto_your_logs')\n",
    "model.fit(x_train,y_train,\n",
    "          epochs=5,\n",
    "          batch_size=64,\n",
    "          callbacks=[tensorboard_cbk],\n",
    "          validation_split=0.2)"
   ]
  },
  {
   "cell_type": "markdown",
   "metadata": {},
   "source": [
    "### 创建自己的回调方法"
   ]
  },
  {
   "cell_type": "code",
   "execution_count": 24,
   "metadata": {},
   "outputs": [
    {
     "name": "stdout",
     "output_type": "stream",
     "text": [
      "Train on 40000 samples, validate on 10000 samples\n",
      "Epoch 1/3\n",
      "38656/40000 [===========================>..] - ETA: 0s - loss: 0.3657 - sparse_categorical_accuracy: 0.8973\n",
      "loss: 0.3613256821870804\n",
      "40000/40000 [==============================] - 2s 47us/sample - loss: 0.3613 - sparse_categorical_accuracy: 0.8983 - val_loss: 0.2241 - val_sparse_categorical_accuracy: 0.9304\n",
      "Epoch 2/3\n",
      "39744/40000 [============================>.] - ETA: 0s - loss: 0.1689 - sparse_categorical_accuracy: 0.9507\n",
      "loss: 0.16862511169016361\n",
      "40000/40000 [==============================] - 2s 39us/sample - loss: 0.1686 - sparse_categorical_accuracy: 0.9506 - val_loss: 0.1783 - val_sparse_categorical_accuracy: 0.9452\n",
      "Epoch 3/3\n",
      "39552/40000 [============================>.] - ETA: 0s - loss: 0.1245 - sparse_categorical_accuracy: 0.9635\n",
      "loss: 0.1243461835294962\n",
      "40000/40000 [==============================] - 1s 34us/sample - loss: 0.1243 - sparse_categorical_accuracy: 0.9635 - val_loss: 0.1494 - val_sparse_categorical_accuracy: 0.9552\n"
     ]
    },
    {
     "data": {
      "text/plain": [
       "<tensorflow.python.keras.callbacks.History at 0x7f7f5fd16c50>"
      ]
     },
     "execution_count": 24,
     "metadata": {},
     "output_type": "execute_result"
    }
   ],
   "source": [
    "class LossHistory(keras.callbacks.Callback):\n",
    "    def on_train_begin(self, logs):\n",
    "        self.losses=[]\n",
    "    def on_epoch_end(self, batch, logs):\n",
    "        self.losses.append(logs.get('loss'))\n",
    "        print('\\nloss:', self.losses[-1])\n",
    "\n",
    "model = get_compiled_model()\n",
    "\n",
    "callbacks = [\n",
    "    LossHistory()\n",
    "]\n",
    "\n",
    "model.fit(x_train,y_train,\n",
    "          epochs=3,\n",
    "          batch_size=64,\n",
    "          callbacks=callbacks,\n",
    "          validation_split=0.2)"
   ]
  },
  {
   "cell_type": "markdown",
   "metadata": {},
   "source": [
    "## 自己构造训练和验证循环"
   ]
  },
  {
   "cell_type": "code",
   "execution_count": 25,
   "metadata": {},
   "outputs": [
    {
     "name": "stdout",
     "output_type": "stream",
     "text": [
      "epoch:  0\n",
      "Training loss (for one batch) at step 0: 2.311230182647705\n",
      "Seen so far: 64 samples\n",
      "Training loss (for one batch) at step 200: 2.2681937217712402\n",
      "Seen so far: 12864 samples\n",
      "Training loss (for one batch) at step 400: 2.179314136505127\n",
      "Seen so far: 25664 samples\n",
      "Training loss (for one batch) at step 600: 2.116332530975342\n",
      "Seen so far: 38464 samples\n",
      "epoch:  1\n",
      "Training loss (for one batch) at step 0: 2.0092639923095703\n",
      "Seen so far: 64 samples\n",
      "Training loss (for one batch) at step 200: 1.9650688171386719\n",
      "Seen so far: 12864 samples\n",
      "Training loss (for one batch) at step 400: 1.884655475616455\n",
      "Seen so far: 25664 samples\n",
      "Training loss (for one batch) at step 600: 1.7521264553070068\n",
      "Seen so far: 38464 samples\n",
      "epoch:  2\n",
      "Training loss (for one batch) at step 0: 1.6472610235214233\n",
      "Seen so far: 64 samples\n",
      "Training loss (for one batch) at step 200: 1.6006805896759033\n",
      "Seen so far: 12864 samples\n",
      "Training loss (for one batch) at step 400: 1.5293551683425903\n",
      "Seen so far: 25664 samples\n",
      "Training loss (for one batch) at step 600: 1.3279411792755127\n",
      "Seen so far: 38464 samples\n"
     ]
    }
   ],
   "source": [
    "#get the model\n",
    "inputs = keras.Input(shape=(784,), name='digits')\n",
    "x = layers.Dense(64, activation='relu', name='dense_1')(inputs)\n",
    "x = layers.Dense(64, activation='relu', name='dense_2')(x)\n",
    "outputs = layers.Dense(10, activation='softmax', name='predictions')(x)\n",
    "model = keras.Model(inputs=inputs, outputs=outputs)\n",
    "\n",
    "#初始化optimizer\n",
    "optimizer = keras.optimizers.SGD(learning_rate=1e-3)\n",
    "#初始化loss\n",
    "loss_fn = keras.losses.SparseCategoricalCrossentropy()\n",
    "\n",
    "#准备训练数据\n",
    "batch_size = 64\n",
    "train_dataset = tf.data.Dataset.from_tensor_slices((x_train, y_train))\n",
    "train_dataset = train_dataset.shuffle(buffer_size=1024).batch(batch_size)\n",
    "\n",
    "#构造循环\n",
    "for epoch in range(3):\n",
    "    print('epoch: ',epoch)\n",
    "    for step, (x_batch_train, y_batch_train) in enumerate(train_dataset):\n",
    "        #开一个gradient tape，计算梯度\n",
    "        with tf.GradientTape() as tape:\n",
    "            logits = model(x_batch_train)\n",
    "            loss_value = loss_fn(y_batch_train, logits)\n",
    "            grads = tape.gradient(loss_value, model.trainable_variables)\n",
    "            optimizer.apply_gradients(zip(grads, model.trainable_variables))\n",
    "        if step%200 == 0:\n",
    "            print('Training loss (for one batch) at step %s: %s'%\n",
    "                  (step, float(loss_value)))\n",
    "            print('Seen so far: %s samples' % ((step+1)*64))"
   ]
  },
  {
   "cell_type": "code",
   "execution_count": 28,
   "metadata": {},
   "outputs": [
    {
     "name": "stdout",
     "output_type": "stream",
     "text": [
      "Start of epoch 0\n",
      "Training loss (for one batch) at step 0: 2.288206100463867\n",
      "Seen so far: 64 samples\n",
      "Training loss (for one batch) at step 200: 2.3012824058532715\n",
      "Seen so far: 12864 samples\n",
      "Training loss (for one batch) at step 400: 2.242558717727661\n",
      "Seen so far: 25664 samples\n",
      "Training loss (for one batch) at step 600: 2.0788254737854004\n",
      "Seen so far: 38464 samples\n",
      "Training acc over epoch: 0.23024000227451324\n",
      "Validation acc: 0.4156999886035919\n",
      "Start of epoch 1\n",
      "Training loss (for one batch) at step 0: 2.0174083709716797\n",
      "Seen so far: 64 samples\n",
      "Training loss (for one batch) at step 200: 2.038489818572998\n",
      "Seen so far: 12864 samples\n",
      "Training loss (for one batch) at step 400: 1.9972724914550781\n",
      "Seen so far: 25664 samples\n",
      "Training loss (for one batch) at step 600: 1.7468492984771729\n",
      "Seen so far: 38464 samples\n",
      "Training acc over epoch: 0.5075399875640869\n",
      "Validation acc: 0.6000999808311462\n",
      "Start of epoch 2\n",
      "Training loss (for one batch) at step 0: 1.6696182489395142\n",
      "Seen so far: 64 samples\n",
      "Training loss (for one batch) at step 200: 1.6831647157669067\n",
      "Seen so far: 12864 samples\n",
      "Training loss (for one batch) at step 400: 1.6592094898223877\n",
      "Seen so far: 25664 samples\n",
      "Training loss (for one batch) at step 600: 1.3828630447387695\n",
      "Seen so far: 38464 samples\n",
      "Training acc over epoch: 0.6568599939346313\n",
      "Validation acc: 0.7369999885559082\n"
     ]
    }
   ],
   "source": [
    "# 训练并验证\n",
    "# Get model\n",
    "inputs = keras.Input(shape=(784,), name='digits')\n",
    "x = layers.Dense(64, activation='relu', name='dense_1')(inputs)\n",
    "x = layers.Dense(64, activation='relu', name='dense_2')(x)\n",
    "outputs = layers.Dense(10, activation='softmax', name='predictions')(x)\n",
    "model = keras.Model(inputs=inputs, outputs=outputs)\n",
    "\n",
    "#初始化optimizer\n",
    "optimizer = keras.optimizers.SGD(learning_rate=1e-3)\n",
    "#初始化loss\n",
    "loss_fn = keras.losses.SparseCategoricalCrossentropy()\n",
    "\n",
    "#准备metrics\n",
    "train_acc_metric = keras.metrics.SparseCategoricalAccuracy()\n",
    "val_acc_metric = keras.metrics.SparseCategoricalAccuracy()\n",
    "\n",
    "#准备数据集\n",
    "batch_size = 64\n",
    "train_dataset = tf.data.Dataset.from_tensor_slices((x_train, y_train))\n",
    "train_dataset = train_dataset.shuffle(buffer_size=1024).batch(batch_size)\n",
    "\n",
    "#准备验证集\n",
    "val_dataset = tf.data.Dataset.from_tensor_slices((x_val, y_val))\n",
    "val_dataset = val_dataset.batch(64)\n",
    "\n",
    "for epoch in range(3):\n",
    "    print('Start of epoch %d' % (epoch,))\n",
    "    \n",
    "    for step, (x_batch_train, y_batch_train) in enumerate(train_dataset):\n",
    "        with tf.GradientTape() as tape:\n",
    "            logits = model(x_batch_train)\n",
    "            loss_value = loss_fn(y_batch_train, logits)\n",
    "        grads = tape.gradient(loss_value, model.trainable_variables)\n",
    "        optimizer.apply_gradients(zip(grads, model.trainable_variables))\n",
    "        \n",
    "        train_acc_metric(y_batch_train, logits)\n",
    "        \n",
    "        if step % 200 == 0:\n",
    "            print('Training loss (for one batch) at step %s: %s' % \n",
    "                 (step, float(loss_value)))\n",
    "            print('Seen so far: %s samples' % ((step+1)*64))\n",
    "            \n",
    "    train_acc = train_acc_metric.result()\n",
    "    print('Training acc over epoch: %s' % (float(train_acc),))\n",
    "    train_acc_metric.reset_states()\n",
    "    \n",
    "    for x_batch_val, y_batch_val in val_dataset:\n",
    "        val_logits = model(x_batch_val)\n",
    "        val_acc_metric(y_batch_val, val_logits)\n",
    "    val_acc = val_acc_metric.result()\n",
    "    val_acc_metric.reset_states()\n",
    "    print('Validation acc: %s' % (float(val_acc),))"
   ]
  },
  {
   "cell_type": "code",
   "execution_count": 29,
   "metadata": {},
   "outputs": [
    {
     "name": "stdout",
     "output_type": "stream",
     "text": [
      "[<tf.Tensor: id=1009163, shape=(), dtype=float32, numpy=6.478449>]\n",
      "[<tf.Tensor: id=1009224, shape=(), dtype=float32, numpy=6.295869>]\n"
     ]
    }
   ],
   "source": [
    "#添加自己构造的loss，每次只能看到最新一次训练增加的loss\n",
    "class ActivityRegularizationLayer(layers.Layer):\n",
    "    def call(self, inputs):\n",
    "        self.add_loss(1e-2 * tf.reduce_sum(inputs))\n",
    "        return inputs\n",
    "    \n",
    "inputs = keras.Input(shape=(784,), name='digits')\n",
    "x = layers.Dense(64, activation='relu', name='dense_1')(inputs)\n",
    "x = ActivityRegularizationLayer()(x)\n",
    "x = layers.Dense(64, activation='relu',name='dense_2')(x)\n",
    "outputs = layers.Dense(10, activation='softmax', name='predictions')(x)\n",
    "\n",
    "model = keras.Model(inputs=inputs, outputs=outputs)\n",
    "logits = model(x_train[:64])\n",
    "print(model.losses)\n",
    "logits = model(x_train[:64])\n",
    "logits = model(x_train[64:128])\n",
    "logtis = model(x_train[128:192])\n",
    "print(model.losses)"
   ]
  },
  {
   "cell_type": "code",
   "execution_count": 31,
   "metadata": {},
   "outputs": [
    {
     "name": "stdout",
     "output_type": "stream",
     "text": [
      "Start of epoch 0\n",
      "Training loss (for one batch) at step 0: 2.316704273223877\n",
      "Seen so far 64 samples\n",
      "Training loss (for one batch) at step 200: 2.3113927841186523\n",
      "Seen so far 12864 samples\n",
      "Training loss (for one batch) at step 400: 2.30755352973938\n",
      "Seen so far 25664 samples\n",
      "Training loss (for one batch) at step 600: 2.316713571548462\n",
      "Seen so far 38464 samples\n",
      "Start of epoch 1\n",
      "Training loss (for one batch) at step 0: 2.3153655529022217\n",
      "Seen so far 64 samples\n",
      "Training loss (for one batch) at step 200: 2.308607339859009\n",
      "Seen so far 12864 samples\n",
      "Training loss (for one batch) at step 400: 2.3059654235839844\n",
      "Seen so far 25664 samples\n",
      "Training loss (for one batch) at step 600: 2.313265800476074\n",
      "Seen so far 38464 samples\n",
      "Start of epoch 2\n",
      "Training loss (for one batch) at step 0: 2.314575433731079\n",
      "Seen so far 64 samples\n",
      "Training loss (for one batch) at step 200: 2.306821346282959\n",
      "Seen so far 12864 samples\n",
      "Training loss (for one batch) at step 400: 2.3050320148468018\n",
      "Seen so far 25664 samples\n",
      "Training loss (for one batch) at step 600: 2.311384677886963\n",
      "Seen so far 38464 samples\n"
     ]
    }
   ],
   "source": [
    "#将loss添加进求导中\n",
    "optimizer = keras.optimizers.SGD(learning_rate=1e-3)\n",
    "\n",
    "for epoch in range(3):\n",
    "    print('Start of epoch %d' % (epoch,))\n",
    "    \n",
    "    for step,(x_batch_train, y_batch_train) in enumerate(train_dataset):\n",
    "        with tf.GradientTape() as tape:\n",
    "            logits = model(x_batch_train)\n",
    "            loss_value = loss_fn(y_batch_train, logits)\n",
    "            \n",
    "            loss_value += sum(model.losses)\n",
    "            \n",
    "        grads = tape.gradient(loss_value, model.trainable_variables)\n",
    "        optimizer.apply_gradients(zip(grads, model.trainable_variables))\n",
    "        \n",
    "        if step % 200 == 0:\n",
    "            print('Training loss (for one batch) at step %s: %s' % \n",
    "                 (step, float(loss_value)))\n",
    "            print('Seen so far %s samples' % ((step+1)*64))"
   ]
  },
  {
   "cell_type": "code",
   "execution_count": null,
   "metadata": {},
   "outputs": [],
   "source": []
  }
 ],
 "metadata": {
  "kernelspec": {
   "display_name": "Python 3",
   "language": "python",
   "name": "python3"
  },
  "language_info": {
   "codemirror_mode": {
    "name": "ipython",
    "version": 3
   },
   "file_extension": ".py",
   "mimetype": "text/x-python",
   "name": "python",
   "nbconvert_exporter": "python",
   "pygments_lexer": "ipython3",
   "version": "3.6.8"
  }
 },
 "nbformat": 4,
 "nbformat_minor": 2
}
