{
 "cells": [
  {
   "cell_type": "markdown",
   "metadata": {},
   "source": [
    "## 用keras构建自己的网络层"
   ]
  },
  {
   "cell_type": "markdown",
   "metadata": {},
   "source": [
    "## 构建一个简单的网络层"
   ]
  },
  {
   "cell_type": "code",
   "execution_count": 1,
   "metadata": {},
   "outputs": [],
   "source": [
    "from __future__ import absolute_import, division, print_function\n",
    "import tensorflow as tf\n",
    "tf.keras.backend.clear_session()\n",
    "import tensorflow.keras as keras\n",
    "import tensorflow.keras.layers as layers"
   ]
  },
  {
   "cell_type": "code",
   "execution_count": 2,
   "metadata": {},
   "outputs": [
    {
     "name": "stdout",
     "output_type": "stream",
     "text": [
      "tf.Tensor(\n",
      "[[ 0.04696474  0.07833821  0.04335655 -0.01753832]\n",
      " [ 0.04696474  0.07833821  0.04335655 -0.01753832]\n",
      " [ 0.04696474  0.07833821  0.04335655 -0.01753832]], shape=(3, 4), dtype=float32)\n"
     ]
    }
   ],
   "source": [
    "# 定义网络层就是：设置网络权重和输出到输入的计算过程\n",
    "class MyLayer(layers.Layer):\n",
    "    def __init__(self,input_dim=32,unit=32):\n",
    "        super(MyLayer, self).__init__()\n",
    "        \n",
    "        w_init = tf.random_normal_initializer()\n",
    "        self.weight = tf.Variable(initial_value=w_init(\n",
    "            shape=(input_dim, unit), dtype=tf.float32), trainable=True)\n",
    "        \n",
    "        b_init = tf.zeros_initializer()\n",
    "        self.bias = tf.Variable(initial_value=b_init(\n",
    "            shape=(unit,), dtype=tf.float32), trainable=True)\n",
    "        \n",
    "    def call(self, inputs):\n",
    "        return tf.matmul(inputs, self.weight) + self.bias\n",
    "    \n",
    "x = tf.ones((3,5))\n",
    "my_layer = MyLayer(5,4)\n",
    "out = my_layer(x)\n",
    "print(out)"
   ]
  },
  {
   "cell_type": "markdown",
   "metadata": {},
   "source": [
    "按上面构建网络层，图层会全自动跟踪权重w和b，当然我们也可以直接用add_weight的方法来构建权重"
   ]
  },
  {
   "cell_type": "code",
   "execution_count": 3,
   "metadata": {},
   "outputs": [
    {
     "name": "stdout",
     "output_type": "stream",
     "text": [
      "tf.Tensor(\n",
      "[[ 0.07028379  0.15770386  0.31081176 -0.18070787]\n",
      " [ 0.07028379  0.15770386  0.31081176 -0.18070787]\n",
      " [ 0.07028379  0.15770386  0.31081176 -0.18070787]], shape=(3, 4), dtype=float32)\n"
     ]
    }
   ],
   "source": [
    "class MyLayer(layers.Layer):\n",
    "    def __init__(self, input_dim=32, unit=32):\n",
    "        super(MyLayer, self).__init__()\n",
    "        self.weight = self.add_weight(shape=(input_dim, unit),\n",
    "                                     initializer=keras.initializers.RandomNormal(),\n",
    "                                     trainable=True)\n",
    "        self.bias = self.add_weight(shape=(unit,),\n",
    "                                   initializer=keras.initializers.Zeros(),\n",
    "                                   trainable=True)\n",
    "    \n",
    "    def call(self, inputs):\n",
    "        return tf.matmul(inputs, self.weight) + self.bias\n",
    "    \n",
    "x = tf.ones((3,5))\n",
    "my_layer = MyLayer(5,4)\n",
    "out = my_layer(x)\n",
    "print(out)"
   ]
  },
  {
   "cell_type": "markdown",
   "metadata": {},
   "source": [
    "也可以设置不可训练的权重"
   ]
  },
  {
   "cell_type": "code",
   "execution_count": 4,
   "metadata": {},
   "outputs": [
    {
     "name": "stdout",
     "output_type": "stream",
     "text": [
      "[3. 3. 3.]\n",
      "[6. 6. 6.]\n",
      "weight:  [<tf.Variable 'Variable:0' shape=(3,) dtype=float32, numpy=array([6., 6., 6.], dtype=float32)>]\n",
      "non-trainable weight:  [<tf.Variable 'Variable:0' shape=(3,) dtype=float32, numpy=array([6., 6., 6.], dtype=float32)>]\n",
      "trainable weight:  []\n"
     ]
    }
   ],
   "source": [
    "class AddLayer(layers.Layer):\n",
    "    def __init__(self, input_dim=32):\n",
    "        super(AddLayer, self).__init__()\n",
    "        self.sum = self.add_weight(shape=(input_dim,),\n",
    "                                      initializer=keras.initializers.Zeros(),\n",
    "                                      trainable=False)\n",
    "        \n",
    "    def call(self, inputs):\n",
    "        self.sum.assign_add(tf.reduce_sum(inputs, axis=0))\n",
    "        return self.sum\n",
    "    \n",
    "x = tf.ones((3,3))\n",
    "my_layer = AddLayer(3)\n",
    "out = my_layer(x)\n",
    "print(out.numpy())\n",
    "output = my_layer(x)\n",
    "print(out.numpy())\n",
    "print(\"weight: \",my_layer.weights)\n",
    "print(\"non-trainable weight: \", my_layer.non_trainable_weights)\n",
    "print('trainable weight: ', my_layer.trainable_weights)"
   ]
  },
  {
   "cell_type": "markdown",
   "metadata": {},
   "source": [
    "当定义网络时不知道网络的唯独是可以重写build函数， 用获得的shape构建网络"
   ]
  },
  {
   "cell_type": "code",
   "execution_count": 5,
   "metadata": {},
   "outputs": [
    {
     "name": "stdout",
     "output_type": "stream",
     "text": [
      "tf.Tensor(\n",
      "[[-0.1625709  -0.12156759  0.0329385 ]\n",
      " [-0.1625709  -0.12156759  0.0329385 ]\n",
      " [-0.1625709  -0.12156759  0.0329385 ]], shape=(3, 3), dtype=float32)\n",
      "tf.Tensor(\n",
      "[[-0.11490209 -0.01973095  0.03038692]\n",
      " [-0.11490209 -0.01973095  0.03038692]], shape=(2, 3), dtype=float32)\n"
     ]
    }
   ],
   "source": [
    "class MyLayer(layers.Layer):\n",
    "    def __init__(self, unit=32):\n",
    "        super(MyLayer, self).__init__()\n",
    "        self.unit = unit\n",
    "        \n",
    "    def build(self, input_shape):\n",
    "        self.weight = self.add_weight(shape=(input_shape[-1], self.unit),\n",
    "                                     initializer=keras.initializers.RandomNormal(),\n",
    "                                     trainable=True)\n",
    "        self.bias = self.add_weight(shape=(self.unit,),\n",
    "                                   initializer=keras.initializers.Zeros(),\n",
    "                                   trainable=True)\n",
    "    \n",
    "    def call(self, inputs):\n",
    "        return tf.matmul(inputs, self.weight) + self.bias\n",
    "        \n",
    "\n",
    "my_layer = MyLayer(3)\n",
    "x = tf.ones((3,5))\n",
    "out = my_layer(x)\n",
    "print(out)\n",
    "my_layer = MyLayer(3)\n",
    "\n",
    "x = tf.ones((2,2))\n",
    "out = my_layer(x)\n",
    "print(out)"
   ]
  },
  {
   "cell_type": "markdown",
   "metadata": {},
   "source": [
    "## 使用子层递归构建网络层"
   ]
  },
  {
   "cell_type": "code",
   "execution_count": 6,
   "metadata": {},
   "outputs": [
    {
     "name": "stdout",
     "output_type": "stream",
     "text": [
      "trainable weights:  0\n",
      "trainable weights: 6\n"
     ]
    }
   ],
   "source": [
    "class MyBlock(layers.Layer):\n",
    "    def __init__(self):\n",
    "        super(MyBlock, self).__init__()\n",
    "        self.layer1 = MyLayer(32)\n",
    "        self.layer2 = MyLayer(16)\n",
    "        self.layer3 = MyLayer(2)\n",
    "        \n",
    "    def call(self, inputs):\n",
    "        h1 = self.layer1(inputs)\n",
    "        h1 = tf.nn.relu(h1)\n",
    "        h2 = self.layer2(h1)\n",
    "        h2 = tf.nn.relu(h2)\n",
    "        return self.layer3(h2)\n",
    "    \n",
    "my_block = MyBlock()\n",
    "print('trainable weights: ', len(my_block.trainable_weights))\n",
    "y = my_block(tf.ones(shape=(3, 64)))\n",
    "print('trainable weights:',len(my_block.trainable_weights))"
   ]
  },
  {
   "cell_type": "markdown",
   "metadata": {},
   "source": [
    "可以通过构建网络层的方法收集loss"
   ]
  },
  {
   "cell_type": "code",
   "execution_count": 7,
   "metadata": {},
   "outputs": [
    {
     "name": "stdout",
     "output_type": "stream",
     "text": [
      "0\n",
      "1\n",
      "1\n"
     ]
    }
   ],
   "source": [
    "class LossLayer(layers.Layer):\n",
    "  \n",
    "  def __init__(self, rate=1e-2):\n",
    "    super(LossLayer, self).__init__()\n",
    "    self.rate = rate\n",
    "  \n",
    "  def call(self, inputs):\n",
    "    self.add_loss(self.rate * tf.reduce_sum(inputs))\n",
    "    return inputs\n",
    "\n",
    "class OutLayer(layers.Layer):\n",
    "    def __init__(self):\n",
    "        super(OutLayer, self).__init__()\n",
    "        self.loss_fun=LossLayer(1e-2)\n",
    "    def call(self, inputs):\n",
    "        return self.loss_fun(inputs)\n",
    "    \n",
    "my_layer = OutLayer()\n",
    "print(len(my_layer.losses)) # 还未call\n",
    "y = my_layer(tf.zeros(1,1))\n",
    "print(len(my_layer.losses)) # 执行call之后\n",
    "y = my_layer(tf.zeros(1,1))\n",
    "print(len(my_layer.losses)) # call之前会重新置0"
   ]
  },
  {
   "cell_type": "markdown",
   "metadata": {},
   "source": [
    "如果中间调用了keras网络层，里面的正则化loss也会被加入进来"
   ]
  },
  {
   "cell_type": "code",
   "execution_count": 8,
   "metadata": {},
   "outputs": [
    {
     "name": "stdout",
     "output_type": "stream",
     "text": [
      "[<tf.Tensor: id=278, shape=(), dtype=float32, numpy=0.0022146467>]\n",
      "[<tf.Variable 'outer_layer/dense/kernel:0' shape=(1, 32) dtype=float32, numpy=\n",
      "array([[ 0.2589388 , -0.19046004, -0.41447636, -0.23215032, -0.37836927,\n",
      "        -0.19449338,  0.21282399, -0.12788299,  0.06460214, -0.3418718 ,\n",
      "         0.29304183, -0.31857777,  0.10812521, -0.00183591, -0.29112974,\n",
      "        -0.3608111 , -0.06615543, -0.25185984, -0.25287798, -0.31953198,\n",
      "         0.39731187, -0.24622603, -0.07172501, -0.38353258, -0.1444222 ,\n",
      "        -0.15399185,  0.32515174,  0.20457661, -0.17550454, -0.13942468,\n",
      "        -0.31494966, -0.40222317]], dtype=float32)>, <tf.Variable 'outer_layer/dense/bias:0' shape=(32,) dtype=float32, numpy=\n",
      "array([0., 0., 0., 0., 0., 0., 0., 0., 0., 0., 0., 0., 0., 0., 0., 0., 0.,\n",
      "       0., 0., 0., 0., 0., 0., 0., 0., 0., 0., 0., 0., 0., 0., 0.],\n",
      "      dtype=float32)>]\n"
     ]
    }
   ],
   "source": [
    "class OuterLayer(layers.Layer):\n",
    "    def __init__(self):\n",
    "        super(OuterLayer, self).__init__()\n",
    "        self.dense = layers.Dense(32, kernel_regularizer=tf.keras.regularizers.l2(1e-3))\n",
    "        \n",
    "    def call(self,inputs):\n",
    "        return self.dense(inputs)\n",
    "    \n",
    "my_layer = OuterLayer()\n",
    "y = my_layer(tf.zeros((1,1)))\n",
    "print(my_layer.losses)\n",
    "print(my_layer.weights)"
   ]
  },
  {
   "cell_type": "markdown",
   "metadata": {},
   "source": [
    "## 其他网络层配置\n",
    "使自己的网络层可以序列化"
   ]
  },
  {
   "cell_type": "code",
   "execution_count": 9,
   "metadata": {},
   "outputs": [
    {
     "name": "stdout",
     "output_type": "stream",
     "text": [
      "{'name': 'linear', 'trainable': True, 'dtype': None, 'units': 125}\n"
     ]
    }
   ],
   "source": [
    "class Linear(layers.Layer):\n",
    "    def __init__(self, units=32, **kwargs):\n",
    "        super(Linear, self).__init__(**kwargs)\n",
    "        self.units = units\n",
    "        \n",
    "    def bulid(self, input_shape):\n",
    "        self.w = self.add_weight(shape=(input_shape[-1], self.units),\n",
    "                                initializer='random_normal',\n",
    "                                trainable=True)\n",
    "        self.b = self.add_weight(shape=(self.units,),\n",
    "                                initializer='random_normal',\n",
    "                                trainable=True)\n",
    "        \n",
    "    def call(self, inputs):\n",
    "        return tf.matmul(inputs,self.w) + self.b\n",
    "    \n",
    "    def get_config(self):\n",
    "        config = super(Linear, self).get_config()\n",
    "        config.update({'units':self.units})\n",
    "        return config\n",
    "    \n",
    "layer = Linear(125)\n",
    "config = layer.get_config()\n",
    "print(config)\n",
    "new_layer = Linear.from_config(config)"
   ]
  },
  {
   "cell_type": "markdown",
   "metadata": {},
   "source": [
    "配置只有训练时可以执行的网络层"
   ]
  },
  {
   "cell_type": "code",
   "execution_count": 10,
   "metadata": {},
   "outputs": [],
   "source": [
    "class MyDropout(layers.Layer):\n",
    "    def __init__(self,rate, **kwargs):\n",
    "        super(MyDropout, self).__init__(**kwargs)\n",
    "        self.rate = rate\n",
    "    def call(self, inputs, training=None):\n",
    "        return tf.cond(training,\n",
    "                      lambda: tf.nn.dropout(inputs, rate=self.rate),\n",
    "                      lambda: inputs)"
   ]
  },
  {
   "cell_type": "markdown",
   "metadata": {},
   "source": [
    "## 构建自己的模型\n",
    "通常，我们使用Layer类来定义内部计算块，并使用Model类来定义外部模型-即要训练的对象。\n",
    "\n",
    "Model类与Layer的区别：\n",
    " - 它公开内置的训练，评估和预测循环（model.fit(),model.evaluate(),model.predict())。\n",
    " - 它通过model.layers属性公开其内层列表。\n",
    " - 它公开了保存和序列化API。\n",
    "\n",
    "下面通过构建一个变分自编码器（VAE），来介绍如何构建自己的网络。"
   ]
  },
  {
   "cell_type": "code",
   "execution_count": 11,
   "metadata": {},
   "outputs": [],
   "source": [
    "# 采样网络\n",
    "class Sampling(layers.Layer):\n",
    "    def call(self, inputs):\n",
    "        z_mean, z_log_var = inputs\n",
    "        batch = tf.shape(z_mean)[0]\n",
    "        dim = tf.shape(z_mean)[1]\n",
    "        epsilon = tf.keras.backend.random_normal(shape=(batch, dim))\n",
    "        return z_mean + tf.exp(0.5*z_log_var) * epsilon\n",
    "# 编码器\n",
    "class Encoder(layers.Layer):\n",
    "    def __init__(self, latent_dim=32, \n",
    "                intermediate_dim=64, name='encoder', **kwargs):\n",
    "        super(Encoder, self).__init__(name=name, **kwargs)\n",
    "        self.dense_proj = layers.Dense(intermediate_dim, activation='relu')\n",
    "        self.dense_mean = layers.Dense(latent_dim)\n",
    "        self.dense_log_var = layers.Dense(latent_dim)\n",
    "        self.sampling = Sampling()\n",
    "        \n",
    "    def call(self, inputs):\n",
    "        h1 = self.dense_proj(inputs)\n",
    "        z_mean = self.dense_mean(h1)\n",
    "        z_log_var = self.dense_log_var(h1)\n",
    "        z = self.sampling((z_mean, z_log_var))\n",
    "        return z_mean, z_log_var, z\n",
    "        \n",
    "# 解码器\n",
    "class Decoder(layers.Layer):\n",
    "    def __init__(self, original_dim, \n",
    "                 intermediate_dim=64, name='decoder', **kwargs):\n",
    "        super(Decoder, self).__init__(name=name, **kwargs)\n",
    "        self.dense_proj = layers.Dense(intermediate_dim, activation='relu')\n",
    "        self.dense_output = layers.Dense(original_dim, activation='sigmoid')\n",
    "    def call(self, inputs):\n",
    "        h1 = self.dense_proj(inputs)\n",
    "        return self.dense_output(h1)\n",
    "    \n",
    "# 变分自编码器\n",
    "class VAE(tf.keras.Model):\n",
    "    def __init__(self, original_dim, latent_dim=32, \n",
    "                intermediate_dim=64, name='encoder', **kwargs):\n",
    "        super(VAE, self).__init__(name=name, **kwargs)\n",
    "    \n",
    "        self.original_dim = original_dim\n",
    "        self.encoder = Encoder(latent_dim=latent_dim,\n",
    "                              intermediate_dim=intermediate_dim)\n",
    "        self.decoder = Decoder(original_dim=original_dim,\n",
    "                              intermediate_dim=intermediate_dim)\n",
    "    def call(self, inputs):\n",
    "        z_mean, z_log_var, z = self.encoder(inputs)\n",
    "        reconstructed = self.decoder(z)\n",
    "        \n",
    "        kl_loss = -0.5*tf.reduce_sum(\n",
    "            z_log_var-tf.square(z_mean)-tf.exp(z_log_var)+1)\n",
    "        self.add_loss(kl_loss)\n",
    "        return reconstructed"
   ]
  },
  {
   "cell_type": "code",
   "execution_count": 12,
   "metadata": {},
   "outputs": [
    {
     "name": "stdout",
     "output_type": "stream",
     "text": [
      "Epoch 1/10\n",
      "60000/60000 [==============================] - 3s 58us/sample - loss: 1.0227\n",
      "Epoch 2/10\n",
      "60000/60000 [==============================] - 2s 41us/sample - loss: 0.0696\n",
      "Epoch 3/10\n",
      "60000/60000 [==============================] - 2s 42us/sample - loss: 0.0680\n",
      "Epoch 4/10\n",
      "60000/60000 [==============================] - 3s 42us/sample - loss: 0.0677\n",
      "Epoch 5/10\n",
      "60000/60000 [==============================] - 3s 43us/sample - loss: 0.0675\n",
      "Epoch 6/10\n",
      "60000/60000 [==============================] - 3s 48us/sample - loss: 0.0675\n",
      "Epoch 7/10\n",
      "60000/60000 [==============================] - 3s 45us/sample - loss: 0.0674\n",
      "Epoch 8/10\n",
      "60000/60000 [==============================] - 3s 48us/sample - loss: 0.0674\n",
      "Epoch 9/10\n",
      "60000/60000 [==============================] - 3s 51us/sample - loss: 0.0674\n",
      "Epoch 10/10\n",
      "60000/60000 [==============================] - 3s 47us/sample - loss: 0.0674\n"
     ]
    },
    {
     "data": {
      "text/plain": [
       "<tensorflow.python.keras.callbacks.History at 0x7f53a8314d68>"
      ]
     },
     "execution_count": 12,
     "metadata": {},
     "output_type": "execute_result"
    }
   ],
   "source": [
    "(x_train, _),_ = tf.keras.datasets.mnist.load_data()\n",
    "x_train = x_train.reshape(60000,784).astype('float32') / 255.0\n",
    "vae = VAE(784, 32, 64)\n",
    "optimizer = tf.keras.optimizers.Adam(learning_rate=1e-3)\n",
    "\n",
    "vae.compile(optimizer, loss = tf.keras.losses.MeanSquaredError())\n",
    "vae.fit(x_train, x_train, epochs=10, batch_size=64)"
   ]
  },
  {
   "cell_type": "code",
   "execution_count": 15,
   "metadata": {},
   "outputs": [
    {
     "name": "stdout",
     "output_type": "stream",
     "text": [
      "Start of epoch 0\n",
      "Start of epoch 1\n",
      "Start of epoch 2\n"
     ]
    }
   ],
   "source": [
    "train_dataset = tf.data.Dataset.from_tensor_slices(x_train)\n",
    "train_dataset = train_dataset.shuffle(buffer_size=1024).batch(64)\n",
    "original_dim = 784\n",
    "vae = VAE(original_dim, 64, 32)\n",
    "\n",
    "optimizer = tf.keras.optimizers.Adam(learning_rate=1e-3)\n",
    "mse_loss_fn = tf.keras.losses.MeanSquaredError()\n",
    "\n",
    "loss_metric = tf.keras.metrics.Mean()\n",
    "\n",
    "#iterate over epochs\n",
    "for epoch in range(3):\n",
    "    print('Start of epoch %d'% (epoch,))\n",
    "    \n",
    "    for step, x_batch_train in enumerate(train_dataset):\n",
    "        with tf.GradientTape() as tape:\n",
    "            reconstructed = vae(x_batch_train)\n",
    "            loss = mse_loss_fn(x_batch_train, reconstructed)\n",
    "            loss += sum(vae.losses)\n",
    "            \n",
    "    grads = tape.gradient(loss, vae.trainable_variables)\n",
    "    optimizer.apply_gradients(zip(grads, vae.trainable_variables))\n",
    "    \n",
    "    loss_metric(loss)\n",
    "    \n",
    "    if step%100 == 0:\n",
    "        print('step %s : mean loss = %s' % (steps, loss_metric.result()))"
   ]
  },
  {
   "cell_type": "code",
   "execution_count": null,
   "metadata": {},
   "outputs": [],
   "source": []
  }
 ],
 "metadata": {
  "kernelspec": {
   "display_name": "Python 3",
   "language": "python",
   "name": "python3"
  },
  "language_info": {
   "codemirror_mode": {
    "name": "ipython",
    "version": 3
   },
   "file_extension": ".py",
   "mimetype": "text/x-python",
   "name": "python",
   "nbconvert_exporter": "python",
   "pygments_lexer": "ipython3",
   "version": "3.6.8"
  }
 },
 "nbformat": 4,
 "nbformat_minor": 2
}
